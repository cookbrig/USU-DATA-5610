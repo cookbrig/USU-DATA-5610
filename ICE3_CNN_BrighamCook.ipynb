{
  "cells": [
    {
      "cell_type": "markdown",
      "id": "7166eacd-bdab-439f-89e3-f16a57440b16",
      "metadata": {
        "id": "7166eacd-bdab-439f-89e3-f16a57440b16"
      },
      "source": [
        "# ICE 3: Computer Vision"
      ]
    },
    {
      "cell_type": "markdown",
      "id": "3e5fff40-4384-4b84-a51e-18987f8e9735",
      "metadata": {
        "id": "3e5fff40-4384-4b84-a51e-18987f8e9735"
      },
      "source": [
        "Identifying the health of plants is a critical component of maximizing yield in agriculture. Oftentimes, ailments present in the leaves of a small number of plants and so effective early identification of these issues could help prevent the spread. In this assignment, we will train a model to predict the health of a plant based off of its leaves.\n",
        "\n",
        "### Goal:\n",
        "Utilizing the dataset at the following link, train a model to detect specific types of diseases (based off of leaf imagery) for one (or more) of the available fruits.\n",
        "\n",
        "Dataset link: https://data.mendeley.com/datasets/tywbtsjrjv/1\n",
        "\n",
        "Tasks:\n",
        "1. Train a CNN from the ground up (i.e. no pretrained models) to predict the category of health status for one or more plants.\n",
        "2. Leverage an appropriate pretrained model to predict the category of health status for one or more plants. Feel free to use any model of your choice (e.g. ResNet-50 with ImageNet weights)"
      ]
    },
    {
      "cell_type": "code",
      "source": [
        "#importing necessary libraries\n",
        "from tensorflow import keras\n",
        "from tensorflow.keras import layers\n",
        "import numpy as np\n",
        "import tensorflow as tf"
      ],
      "metadata": {
        "id": "Rzw1f4O8lCiq"
      },
      "id": "Rzw1f4O8lCiq",
      "execution_count": 1,
      "outputs": []
    },
    {
      "cell_type": "code",
      "source": [
        "#unzipping file\n",
        "!unzip -qq strawberry.zip"
      ],
      "metadata": {
        "id": "WzMo7YTzm7kr"
      },
      "id": "WzMo7YTzm7kr",
      "execution_count": 2,
      "outputs": []
    },
    {
      "cell_type": "code",
      "source": [
        "import os\n",
        "import shutil\n",
        "from random import shuffle\n",
        "\n",
        "# Define your base directory where the images are stored\n",
        "base_dir = '/content/strawberry'\n",
        "\n",
        "# Define the target directories for train, test, and validation sets\n",
        "train_dir = '/content/strawberry/train'\n",
        "test_dir = '/content/strawberry/test'\n",
        "val_dir = '/content/strawberry/val'\n",
        "\n",
        "# Ensure target directories exist\n",
        "for dir in [train_dir, test_dir, val_dir]:\n",
        "    os.makedirs(dir, exist_ok=True)\n",
        "\n",
        "# List all files in the base directory\n",
        "all_files = os.listdir(base_dir)\n",
        "\n",
        "# Classify files based on a pattern in their names\n",
        "healthy_files = [f for f in all_files if 'healthy' in f]\n",
        "leaf_scorch_files = [f for f in all_files if 'leaf_scorch' in f]\n",
        "\n",
        "# Define a function to handle the shuffling, splitting, and organizing\n",
        "def organize_files(files, category):\n",
        "    shuffle(files)\n",
        "\n",
        "    # Calculate split indices based on your chosen ratios\n",
        "    train_end = int(len(files) * 0.7)\n",
        "    val_end = train_end + int(len(files) * 0.15)\n",
        "\n",
        "    # Split the files\n",
        "    train_files = files[:train_end]\n",
        "    val_files = files[train_end:val_end]\n",
        "    test_files = files[val_end:]\n",
        "\n",
        "    # Function to copy files to the target directory\n",
        "    def copy_files(files, target_dir):\n",
        "        os.makedirs(os.path.join(target_dir, category), exist_ok=True)\n",
        "        for file in files:\n",
        "            shutil.copy(os.path.join(base_dir, file),\n",
        "                        os.path.join(target_dir, category, file))\n",
        "\n",
        "    # Copy files to their respective directories\n",
        "    copy_files(train_files, train_dir)\n",
        "    copy_files(val_files, val_dir)\n",
        "    copy_files(test_files, test_dir)\n",
        "\n",
        "# Organize healthy and leaf_scorch files\n",
        "organize_files(healthy_files, 'healthy')\n",
        "organize_files(leaf_scorch_files, 'leaf_scorch')\n",
        "\n",
        "print(\"Files have been organized into train, test, and validation sets.\")\n"
      ],
      "metadata": {
        "colab": {
          "base_uri": "https://localhost:8080/"
        },
        "id": "PsLCJBVYc55G",
        "outputId": "3accba8c-d565-4dd7-9408-491e944aaf3c"
      },
      "id": "PsLCJBVYc55G",
      "execution_count": 4,
      "outputs": [
        {
          "output_type": "stream",
          "name": "stdout",
          "text": [
            "Files have been organized into train, test, and validation sets.\n"
          ]
        }
      ]
    },
    {
      "cell_type": "code",
      "source": [
        "# CNN Architecture\n",
        "from tensorflow import keras\n",
        "from tensorflow.keras import layers\n",
        "\n",
        "inputs = keras.Input(shape=(256,256,3))\n",
        "x = layers.Rescaling(1./255)(inputs)\n",
        "\n",
        "x = layers.Conv2D(filters=32, kernel_size=3, activation='relu')(x)\n",
        "x = layers.MaxPooling2D(pool_size=2)(x)\n",
        "\n",
        "x = layers.Conv2D(filters=64, kernel_size=3, activation='relu')(x)\n",
        "x = layers.MaxPooling2D(pool_size=2)(x)\n",
        "\n",
        "x = layers.Conv2D(filters=128, kernel_size=3, activation='relu')(x)\n",
        "x = layers.MaxPooling2D(pool_size=2)(x)\n",
        "\n",
        "x = layers.Conv2D(filters=256, kernel_size=3, activation='relu')(x)\n",
        "x = layers.MaxPooling2D(pool_size=2)(x)\n",
        "\n",
        "x = layers.Flatten()(x)\n",
        "outputs = layers.Dense(1, activation='sigmoid')(x)\n",
        "\n",
        "model = keras.Model(inputs=inputs, outputs=outputs)"
      ],
      "metadata": {
        "id": "5cwwYoHec4jc"
      },
      "id": "5cwwYoHec4jc",
      "execution_count": 5,
      "outputs": []
    },
    {
      "cell_type": "code",
      "source": [
        "#model compilation\n",
        "model.compile(loss='binary_crossentropy',\n",
        "              optimizer='rmsprop',\n",
        "              metrics=['accuracy'])"
      ],
      "metadata": {
        "id": "IngREgOblqhb"
      },
      "id": "IngREgOblqhb",
      "execution_count": 6,
      "outputs": []
    },
    {
      "cell_type": "code",
      "source": [
        "from tensorflow.keras.utils import image_dataset_from_directory\n",
        "\n",
        "#create train dataset\n",
        "train_dataset = image_dataset_from_directory(\n",
        "    '/content/strawberry/train',\n",
        "    image_size = (256,256),\n",
        "    batch_size=32\n",
        ")\n",
        "\n",
        "#create validation dataset\n",
        "validation_dataset = image_dataset_from_directory(\n",
        "    '/content/strawberry/val',\n",
        "    image_size = (256,256),\n",
        "    batch_size=32\n",
        ")\n",
        "\n",
        "#create test dataset\n",
        "test_dataset = image_dataset_from_directory(\n",
        "    '/content/strawberry/test',\n",
        "    image_size = (256,256),\n",
        "    batch_size=32\n",
        ")"
      ],
      "metadata": {
        "colab": {
          "base_uri": "https://localhost:8080/"
        },
        "id": "lk4wFu51lz8A",
        "outputId": "88021d83-ff6b-4cb3-d14e-4aa7e951d980"
      },
      "id": "lk4wFu51lz8A",
      "execution_count": 7,
      "outputs": [
        {
          "output_type": "stream",
          "name": "stdout",
          "text": [
            "Found 1476 files belonging to 2 classes.\n",
            "Found 316 files belonging to 2 classes.\n",
            "Found 317 files belonging to 2 classes.\n"
          ]
        }
      ]
    },
    {
      "cell_type": "code",
      "source": [
        "#training CNN from scratch\n",
        "history = model.fit(\n",
        "    train_dataset,\n",
        "    validation_data=validation_dataset,\n",
        "    epochs=10,\n",
        "    batch_size=32\n",
        ")\n"
      ],
      "metadata": {
        "colab": {
          "base_uri": "https://localhost:8080/"
        },
        "id": "1zsGU_KgmxYx",
        "outputId": "c649fd2e-6355-4e54-c148-f4b4a1d42bda"
      },
      "id": "1zsGU_KgmxYx",
      "execution_count": 8,
      "outputs": [
        {
          "output_type": "stream",
          "name": "stdout",
          "text": [
            "Epoch 1/10\n",
            "47/47 [==============================] - 12s 118ms/step - loss: 0.6408 - accuracy: 0.6748 - val_loss: 0.2822 - val_accuracy: 0.8861\n",
            "Epoch 2/10\n",
            "47/47 [==============================] - 4s 72ms/step - loss: 0.1954 - accuracy: 0.9268 - val_loss: 0.0323 - val_accuracy: 0.9873\n",
            "Epoch 3/10\n",
            "47/47 [==============================] - 4s 85ms/step - loss: 0.1461 - accuracy: 0.9573 - val_loss: 0.3079 - val_accuracy: 0.8924\n",
            "Epoch 4/10\n",
            "47/47 [==============================] - 4s 73ms/step - loss: 0.1542 - accuracy: 0.9797 - val_loss: 0.0808 - val_accuracy: 0.9810\n",
            "Epoch 5/10\n",
            "47/47 [==============================] - 4s 72ms/step - loss: 0.0184 - accuracy: 0.9946 - val_loss: 0.2488 - val_accuracy: 0.9525\n",
            "Epoch 6/10\n",
            "47/47 [==============================] - 4s 82ms/step - loss: 0.0229 - accuracy: 0.9932 - val_loss: 0.0062 - val_accuracy: 0.9968\n",
            "Epoch 7/10\n",
            "47/47 [==============================] - 4s 73ms/step - loss: 0.1220 - accuracy: 0.9817 - val_loss: 0.0056 - val_accuracy: 1.0000\n",
            "Epoch 8/10\n",
            "47/47 [==============================] - 4s 73ms/step - loss: 0.0069 - accuracy: 0.9986 - val_loss: 8.6478e-04 - val_accuracy: 1.0000\n",
            "Epoch 9/10\n",
            "47/47 [==============================] - 4s 79ms/step - loss: 0.0328 - accuracy: 0.9946 - val_loss: 8.0955e-04 - val_accuracy: 1.0000\n",
            "Epoch 10/10\n",
            "47/47 [==============================] - 4s 72ms/step - loss: 1.7002e-04 - accuracy: 1.0000 - val_loss: 1.4946e-04 - val_accuracy: 1.0000\n"
          ]
        }
      ]
    },
    {
      "cell_type": "code",
      "source": [
        "#looking at test accuracy\n",
        "test_loss, test_acc = model.evaluate(test_dataset)\n",
        "print(f\"Test Accuracy: {test_acc}\")"
      ],
      "metadata": {
        "colab": {
          "base_uri": "https://localhost:8080/"
        },
        "id": "KkFIE0lMPQXp",
        "outputId": "6bc6b038-3ed8-4f0d-9f35-faad0ef71de3"
      },
      "id": "KkFIE0lMPQXp",
      "execution_count": 9,
      "outputs": [
        {
          "output_type": "stream",
          "name": "stdout",
          "text": [
            "10/10 [==============================] - 1s 115ms/step - loss: 7.5292e-04 - accuracy: 1.0000\n",
            "Test Accuracy: 1.0\n"
          ]
        }
      ]
    },
    {
      "cell_type": "markdown",
      "source": [
        "# Pretrained Model (Resnet)"
      ],
      "metadata": {
        "id": "yByF1tIBQE3h"
      },
      "id": "yByF1tIBQE3h"
    },
    {
      "cell_type": "code",
      "source": [
        "#importing ResNet model with imagenet weights\n",
        "from tensorflow.keras.applications import ResNet50\n",
        "\n",
        "base_model = ResNet50(weights='imagenet', include_top=False, input_shape=(256, 256, 3))\n",
        "base_model.trainable = False  # Freeze the base model"
      ],
      "metadata": {
        "colab": {
          "base_uri": "https://localhost:8080/"
        },
        "id": "w_y0kxMUPRrT",
        "outputId": "f6299260-3311-459b-d9ba-21c3f7d45338"
      },
      "id": "w_y0kxMUPRrT",
      "execution_count": 10,
      "outputs": [
        {
          "output_type": "stream",
          "name": "stdout",
          "text": [
            "Downloading data from https://storage.googleapis.com/tensorflow/keras-applications/resnet/resnet50_weights_tf_dim_ordering_tf_kernels_notop.h5\n",
            "94765736/94765736 [==============================] - 1s 0us/step\n"
          ]
        }
      ]
    },
    {
      "cell_type": "code",
      "source": [
        "from tensorflow.keras import layers, models\n",
        "\n",
        "# Add new layers on top of the model\n",
        "model = models.Sequential([\n",
        "    base_model,\n",
        "    layers.GlobalAveragePooling2D(),\n",
        "    layers.Dense(1024, activation='relu'),\n",
        "    layers.Dense(1, activation='sigmoid')\n",
        "])"
      ],
      "metadata": {
        "id": "KDTKsuEmPpoT"
      },
      "id": "KDTKsuEmPpoT",
      "execution_count": 11,
      "outputs": []
    },
    {
      "cell_type": "code",
      "source": [
        "#compiling model\n",
        "model.compile(optimizer='adam', loss='binary_crossentropy', metrics=['accuracy'])"
      ],
      "metadata": {
        "id": "tXhNDOGkPtXY"
      },
      "id": "tXhNDOGkPtXY",
      "execution_count": 12,
      "outputs": []
    },
    {
      "cell_type": "code",
      "source": [
        "#using pretrained model\n",
        "history = model.fit(\n",
        "    train_dataset,\n",
        "    validation_data=validation_dataset,\n",
        "    epochs=10,  # Adjust the number of epochs as needed\n",
        "    batch_size=32\n",
        ")"
      ],
      "metadata": {
        "colab": {
          "base_uri": "https://localhost:8080/"
        },
        "id": "9F8676NKPwGn",
        "outputId": "cd1d55e0-e10d-477e-e0e5-30362f4741f9"
      },
      "id": "9F8676NKPwGn",
      "execution_count": 13,
      "outputs": [
        {
          "output_type": "stream",
          "name": "stdout",
          "text": [
            "Epoch 1/10\n",
            "47/47 [==============================] - 18s 237ms/step - loss: 0.0937 - accuracy: 0.9641 - val_loss: 0.0093 - val_accuracy: 0.9968\n",
            "Epoch 2/10\n",
            "47/47 [==============================] - 7s 146ms/step - loss: 6.0180e-05 - accuracy: 1.0000 - val_loss: 0.0017 - val_accuracy: 1.0000\n",
            "Epoch 3/10\n",
            "47/47 [==============================] - 7s 146ms/step - loss: 3.6890e-05 - accuracy: 1.0000 - val_loss: 0.0017 - val_accuracy: 1.0000\n",
            "Epoch 4/10\n",
            "47/47 [==============================] - 7s 149ms/step - loss: 3.5795e-05 - accuracy: 1.0000 - val_loss: 0.0017 - val_accuracy: 1.0000\n",
            "Epoch 5/10\n",
            "47/47 [==============================] - 7s 155ms/step - loss: 2.9181e-05 - accuracy: 1.0000 - val_loss: 0.0017 - val_accuracy: 1.0000\n",
            "Epoch 6/10\n",
            "47/47 [==============================] - 7s 150ms/step - loss: 2.4660e-05 - accuracy: 1.0000 - val_loss: 0.0021 - val_accuracy: 1.0000\n",
            "Epoch 7/10\n",
            "47/47 [==============================] - 7s 152ms/step - loss: 2.0152e-05 - accuracy: 1.0000 - val_loss: 0.0020 - val_accuracy: 1.0000\n",
            "Epoch 8/10\n",
            "47/47 [==============================] - 8s 174ms/step - loss: 1.6435e-05 - accuracy: 1.0000 - val_loss: 0.0021 - val_accuracy: 1.0000\n",
            "Epoch 9/10\n",
            "47/47 [==============================] - 7s 149ms/step - loss: 1.2995e-05 - accuracy: 1.0000 - val_loss: 0.0023 - val_accuracy: 0.9968\n",
            "Epoch 10/10\n",
            "47/47 [==============================] - 7s 149ms/step - loss: 1.0493e-05 - accuracy: 1.0000 - val_loss: 0.0022 - val_accuracy: 1.0000\n"
          ]
        }
      ]
    },
    {
      "cell_type": "code",
      "source": [
        "#assessing test accuracy for pretrained model\n",
        "test_loss, test_acc = model.evaluate(test_dataset)\n",
        "print(f\"Test Accuracy: {test_acc}\")"
      ],
      "metadata": {
        "colab": {
          "base_uri": "https://localhost:8080/"
        },
        "id": "Wdj03C0qQB33",
        "outputId": "98351585-8da5-420a-9008-25f6f12311fb"
      },
      "id": "Wdj03C0qQB33",
      "execution_count": null,
      "outputs": [
        {
          "output_type": "stream",
          "name": "stdout",
          "text": [
            "10/10 [==============================] - 4s 370ms/step - loss: 5.5752e-05 - accuracy: 1.0000\n",
            "Test Accuracy: 1.0\n"
          ]
        }
      ]
    }
  ],
  "metadata": {
    "kernelspec": {
      "display_name": "Python 3",
      "name": "python3"
    },
    "language_info": {
      "codemirror_mode": {
        "name": "ipython",
        "version": 3
      },
      "file_extension": ".py",
      "mimetype": "text/x-python",
      "name": "python",
      "nbconvert_exporter": "python",
      "pygments_lexer": "ipython3",
      "version": "3.8.8"
    },
    "colab": {
      "provenance": [],
      "gpuType": "T4"
    },
    "accelerator": "GPU"
  },
  "nbformat": 4,
  "nbformat_minor": 5
}